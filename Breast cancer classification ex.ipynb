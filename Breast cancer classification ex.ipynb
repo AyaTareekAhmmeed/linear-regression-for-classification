{
 "cells": [
  {
   "cell_type": "code",
   "execution_count": 1,
   "id": "df38168f",
   "metadata": {},
   "outputs": [],
   "source": [
    "#Import Libraries\n",
    "from sklearn.datasets import load_breast_cancer\n",
    "from sklearn.model_selection import train_test_split\n",
    "from sklearn.linear_model import LogisticRegression\n",
    "from sklearn.metrics import confusion_matrix\n",
    "import seaborn as sns\n",
    "import matplotlib.pyplot as plt\n",
    "#libraries for calculating accurancy\n",
    "from sklearn.metrics import accuracy_score\n",
    "from sklearn.metrics import f1_score\n",
    "from sklearn.metrics import recall_score\n",
    "from sklearn.metrics import precision_score\n",
    "from sklearn.metrics import precision_recall_fscore_support\n",
    "from sklearn.metrics import precision_recall_curve\n",
    "from sklearn.metrics import classification_report\n",
    "from sklearn.metrics import roc_curve\n",
    "from sklearn.metrics import auc\n",
    "from sklearn.metrics import roc_auc_score\n",
    "from sklearn.metrics import zero_one_loss"
   ]
  },
  {
   "cell_type": "code",
   "execution_count": 3,
   "id": "3d692178",
   "metadata": {},
   "outputs": [
    {
     "name": "stdout",
     "output_type": "stream",
     "text": [
      "X :\n",
      " [[1.799e+01 1.038e+01 1.228e+02 ... 2.654e-01 4.601e-01 1.189e-01]\n",
      " [2.057e+01 1.777e+01 1.329e+02 ... 1.860e-01 2.750e-01 8.902e-02]\n",
      " [1.969e+01 2.125e+01 1.300e+02 ... 2.430e-01 3.613e-01 8.758e-02]\n",
      " ...\n",
      " [1.660e+01 2.808e+01 1.083e+02 ... 1.418e-01 2.218e-01 7.820e-02]\n",
      " [2.060e+01 2.933e+01 1.401e+02 ... 2.650e-01 4.087e-01 1.240e-01]\n",
      " [7.760e+00 2.454e+01 4.792e+01 ... 0.000e+00 2.871e-01 7.039e-02]]\n",
      "y : [0 0 0 0 0 0 0 0 0 0 0 0 0 0 0 0 0 0 0 1 1 1 0 0 0 0 0 0 0 0 0 0 0 0 0 0 0\n",
      " 1 0 0 0 0 0 0 0 0 1 0 1 1 1 1 1 0 0 1 0 0 1 1 1 1 0 1 0 0 1 1 1 1 0 1 0 0\n",
      " 1 0 1 0 0 1 1 1 0 0 1 0 0 0 1 1 1 0 1 1 0 0 1 1 1 0 0 1 1 1 1 0 1 1 0 1 1\n",
      " 1 1 1 1 1 1 0 0 0 1 0 0 1 1 1 0 0 1 0 1 0 0 1 0 0 1 1 0 1 1 0 1 1 1 1 0 1\n",
      " 1 1 1 1 1 1 1 1 0 1 1 1 1 0 0 1 0 1 1 0 0 1 1 0 0 1 1 1 1 0 1 1 0 0 0 1 0\n",
      " 1 0 1 1 1 0 1 1 0 0 1 0 0 0 0 1 0 0 0 1 0 1 0 1 1 0 1 0 0 0 0 1 1 0 0 1 1\n",
      " 1 0 1 1 1 1 1 0 0 1 1 0 1 1 0 0 1 0 1 1 1 1 0 1 1 1 1 1 0 1 0 0 0 0 0 0 0\n",
      " 0 0 0 0 0 0 0 1 1 1 1 1 1 0 1 0 1 1 0 1 1 0 1 0 0 1 1 1 1 1 1 1 1 1 1 1 1\n",
      " 1 0 1 1 0 1 0 1 1 1 1 1 1 1 1 1 1 1 1 1 1 0 1 1 1 0 1 0 1 1 1 1 0 0 0 1 1\n",
      " 1 1 0 1 0 1 0 1 1 1 0 1 1 1 1 1 1 1 0 0 0 1 1 1 1 1 1 1 1 1 1 1 0 0 1 0 0\n",
      " 0 1 0 0 1 1 1 1 1 0 1 1 1 1 1 0 1 1 1 0 1 1 0 0 1 1 1 1 1 1 0 1 1 1 1 1 1\n",
      " 1 0 1 1 1 1 1 0 1 1 0 1 1 1 1 1 1 1 1 1 1 1 1 0 1 0 0 1 0 1 1 1 1 1 0 1 1\n",
      " 0 1 0 1 1 0 1 0 1 1 1 1 1 1 1 1 0 0 1 1 1 1 1 1 0 1 1 1 1 1 1 1 1 1 1 0 1\n",
      " 1 1 1 1 1 1 0 1 0 1 1 0 1 1 1 1 1 0 0 1 0 1 0 1 1 1 1 1 0 1 1 0 1 0 1 0 0\n",
      " 1 1 1 0 1 1 1 1 1 1 1 1 1 1 1 0 1 0 0 1 1 1 1 1 1 1 1 1 1 1 1 1 1 1 1 1 1\n",
      " 1 1 1 1 1 1 1 0 0 0 0 0 0 1]\n"
     ]
    }
   ],
   "source": [
    "#load breast cancer data\n",
    "\n",
    "BreastData = load_breast_cancer()\n",
    "\n",
    "#X Data \n",
    "#cant use .data and . target unless data is in SKlearn\n",
    "X = BreastData.data\n",
    "print('X :\\n',X)\n",
    "\n",
    "#y Data\n",
    "y = BreastData.target\n",
    "print('y :',y)"
   ]
  },
  {
   "cell_type": "code",
   "execution_count": 4,
   "id": "442e4209",
   "metadata": {},
   "outputs": [],
   "source": [
    "#Splitting data\n",
    "\n",
    "X_train, X_test, y_train, y_test = train_test_split(X, y, test_size=0.33, random_state=44, shuffle =True)"
   ]
  },
  {
   "cell_type": "code",
   "execution_count": 13,
   "id": "7acc8089",
   "metadata": {},
   "outputs": [
    {
     "name": "stdout",
     "output_type": "stream",
     "text": [
      "LogisticRegressionModel Train Score is :  0.9028871391076115\n",
      "LogisticRegressionModel Test Score is :  0.9574468085106383\n",
      "LogisticRegressionModel Classes are :  [0 1]\n",
      "LogisticRegressionModel No. of iteratios is :  [4250]\n"
     ]
    }
   ],
   "source": [
    "#Applying LogisticRegression Model \n",
    "\n",
    "'''\n",
    "#linear_model.LogisticRegression(penalty='l2’,dual=False,tol=0.0001,C=1.0,fit_intercept=True,intercept_scaling=1, #tol 'avilabulty for error' = small num to reduce errpr level\n",
    "#                                class_weight=None,random_state=None,solver='warn’,max_iter=100, #max_itr 'num of tryes'=big num for better acurancy\n",
    "#                                multi_class='warn’, verbose=0,warm_start=False, n_jobs=None) #n_jops 'how fast for applying'= -1 or small num for better sol\n",
    "'''\n",
    "\n",
    "LogisticRegressionModel = LogisticRegression(penalty='l2',solver='sag',max_iter=10000,C=1.0,random_state=33) #solver ='sag' or 'saga' for  big data &C = num'small num for better acuranccy and solving overfitting problem\n",
    "LogisticRegressionModel.fit(X_train, y_train) #fit for applying equations and train data ,get best equation for sol\n",
    "\n",
    "#Calculating Details\n",
    "print('LogisticRegressionModel Train Score is : ' , LogisticRegressionModel.score(X_train, y_train))\n",
    "print('LogisticRegressionModel Test Score is : ' , LogisticRegressionModel.score(X_test, y_test))\n",
    "print('LogisticRegressionModel Classes are : ' , LogisticRegressionModel.classes_) #what classes i have 'here[0,1]'\n",
    "print('LogisticRegressionModel No. of iteratios is : ' , LogisticRegressionModel.n_iter_) #.n_iter_ to get num of itrations it used to find sol (dosent equal max_iter cuz it stops when data are similer and it cant have better accurancy)"
   ]
  },
  {
   "cell_type": "code",
   "execution_count": 18,
   "id": "a24b3a30",
   "metadata": {},
   "outputs": [
    {
     "name": "stdout",
     "output_type": "stream",
     "text": [
      "Predicted Value for LogisticRegressionModel is : \n",
      " [0 0 1 0 1 1 1 1 0 1]\n",
      "Prediction Probabilities Value for LogisticRegressionModel is :\n",
      " [[9.83481567e-01 1.65184325e-02]\n",
      " [9.99967990e-01 3.20098384e-05]\n",
      " [8.00860159e-02 9.19913984e-01]\n",
      " [9.99999985e-01 1.50163716e-08]\n",
      " [4.19679798e-01 5.80320202e-01]\n",
      " [3.51821975e-01 6.48178025e-01]\n",
      " [3.25652069e-02 9.67434793e-01]\n",
      " [3.37076723e-01 6.62923277e-01]\n",
      " [9.65221595e-01 3.47784050e-02]\n",
      " [1.94412947e-02 9.80558705e-01]]\n",
      "Y actual is :\n",
      " [0 0 1 0 1 1 1 1 0 1]\n"
     ]
    }
   ],
   "source": [
    "#Calculating Prediction\n",
    "y_pred = LogisticRegressionModel.predict(X_test)\n",
    "y_pred_prob = LogisticRegressionModel.predict_proba(X_test)\n",
    "print('Predicted Value for LogisticRegressionModel is : \\n' , y_pred[:10]) #give me firist 10 predected outputs \n",
    "print('Prediction Probabilities Value for LogisticRegressionModel is :\\n' , y_pred_prob[:10]) #show probabilitey of firist 10 predected y and how i classify them using 0 prob and 1 prob\n",
    "print('Y actual is :\\n',y_test[:10])"
   ]
  },
  {
   "cell_type": "code",
   "execution_count": 20,
   "id": "642ea014",
   "metadata": {},
   "outputs": [
    {
     "name": "stdout",
     "output_type": "stream",
     "text": [
      "Confusion Matrix is : \n",
      " [[ 63   5]\n",
      " [  3 117]]\n"
     ]
    },
    {
     "data": {
      "image/png": "[encoded data removed]",
      "text/plain": [
       "<Figure size 432x288 with 2 Axes>"
      ]
     },
     "metadata": {
      "needs_background": "light"
     },
     "output_type": "display_data"
    }
   ],
   "source": [
    "#Calculating Confusion Matrix (true positive, true negative, false positive,false negative)\n",
    "CM = confusion_matrix(y_test, y_pred)\n",
    "print('Confusion Matrix is : \\n', CM)\n",
    "\n",
    "# drawing confusion matrix\n",
    "sns.heatmap(CM, center = True)\n",
    "plt.show()"
   ]
  },
  {
   "cell_type": "code",
   "execution_count": 22,
   "id": "16d41e4e",
   "metadata": {},
   "outputs": [
    {
     "name": "stdout",
     "output_type": "stream",
     "text": [
      "Accuracy Score is :  180\n",
      "F1 Score is :  0.9574468085106385\n",
      "Recall Score is :  0.9574468085106383\n",
      "Precision Score is :  0.9574468085106383\n",
      "Precision Recall Score is :  (0.9574468085106383, 0.9574468085106383, 0.9574468085106385, None)\n",
      "Precision Value is :  [0.63829787 0.95901639 1.        ]\n",
      "Recall Value is :  [1.    0.975 0.   ]\n",
      "Thresholds Value is :  [0 1]\n",
      "Classification Report is :                precision    recall  f1-score   support\n",
      "\n",
      "           0       0.95      0.93      0.94        68\n",
      "           1       0.96      0.97      0.97       120\n",
      "\n",
      "    accuracy                           0.96       188\n",
      "   macro avg       0.96      0.95      0.95       188\n",
      "weighted avg       0.96      0.96      0.96       188\n",
      "\n",
      "AUC Value  :  0.9507352941176471\n",
      "fpr Value  :  [0.         0.07352941 1.        ]\n",
      "tpr Value  :  [0.    0.975 1.   ]\n",
      "thresholds Value  :  [2 1 0]\n",
      "ROCAUC Score :  0.9507352941176471\n",
      "Zero One Loss Value :  8\n"
     ]
    }
   ],
   "source": [
    "#matrix moduels\n",
    "#Calculating Accuracy Score  : ((TP + TN) / float(TP + TN + FP + FN))\n",
    "AccScore = accuracy_score(y_test, y_pred, normalize=False)\n",
    "print('Accuracy Score is : ', AccScore)\n",
    "\n",
    "#----------------------------------------------------\n",
    "#Calculating F1 Score  : 2 * (precision * recall) / (precision + recall)\n",
    "# f1_score(y_true, y_pred, labels=None, pos_label=1, average=’binary’, sample_weight=None)\n",
    "\n",
    "F1Score = f1_score(y_test, y_pred, average='micro') #it can be : binary,macro,weighted,samples\n",
    "print('F1 Score is : ', F1Score)\n",
    "\n",
    "#----------------------------------------------------\n",
    "#Calculating Recall Score : (Sensitivity) (TP / float(TP + FN))   1 / 1+2  \n",
    "# recall_score(y_true, y_pred, labels=None, pos_label=1, average=’binary’, sample_weight=None)\n",
    "\n",
    "RecallScore = recall_score(y_test, y_pred, average='micro') #it can be : binary,macro,weighted,samples\n",
    "print('Recall Score is : ', RecallScore)\n",
    "\n",
    "#----------------------------------------------------\n",
    "#Calculating Precision Score : (Specificity) #(TP / float(TP + FP))  \n",
    "# precision_score(y_true, y_pred, labels=None, pos_label=1, average=’binary’,sample_weight=None)\n",
    "\n",
    "PrecisionScore = precision_score(y_test, y_pred, average='micro') #it can be : binary,macro,weighted,samples\n",
    "print('Precision Score is : ', PrecisionScore)\n",
    "\n",
    "#----------------------------------------------------\n",
    "#Calculating Precision recall Score :  \n",
    "#metrics.precision_recall_fscore_support(y_true, y_pred, beta=1.0, labels=None, pos_label=1, average=\n",
    "#                                        None, warn_for = ('precision’,’recall’, ’f-score’), sample_weight=None)\n",
    "\n",
    "PrecisionRecallScore = precision_recall_fscore_support(y_test, y_pred, average='micro') #it can be : binary,macro,weighted,samples\n",
    "print('Precision Recall Score is : ', PrecisionRecallScore)\n",
    "\n",
    "#----------------------------------------------------\n",
    "#Calculating Precision recall Curve :  \n",
    "# precision_recall_curve(y_true, probas_pred, pos_label=None, sample_weight=None)\n",
    "\n",
    "PrecisionValue, RecallValue, ThresholdsValue = precision_recall_curve(y_test,y_pred)\n",
    "print('Precision Value is : ', PrecisionValue)\n",
    "print('Recall Value is : ', RecallValue)\n",
    "print('Thresholds Value is : ', ThresholdsValue)\n",
    "\n",
    "#----------------------------------------------------\n",
    "#Calculating classification Report :  \n",
    "#classification_report(y_true, y_pred, labels=None, target_names=None,sample_weight=None, digits=2, output_dict=False)\n",
    "\n",
    "ClassificationReport = classification_report(y_test,y_pred)\n",
    "print('Classification Report is : ', ClassificationReport )\n",
    "\n",
    "#----------------------------------------------------\n",
    "#Calculating Area Under the Curve :  \n",
    "\n",
    "fprValue2, tprValue2, thresholdsValue2 = roc_curve(y_test,y_pred)\n",
    "AUCValue = auc(fprValue2, tprValue2)\n",
    "print('AUC Value  : ', AUCValue)\n",
    "\n",
    "#----------------------------------------------------\n",
    "#Calculating Receiver Operating Characteristic :  \n",
    "#roc_curve(y_true, y_score, pos_label=None, sample_weight=None,drop_intermediate=True)\n",
    "\n",
    "fprValue, tprValue, thresholdsValue = roc_curve(y_test,y_pred)\n",
    "print('fpr Value  : ', fprValue)\n",
    "print('tpr Value  : ', tprValue)\n",
    "print('thresholds Value  : ', thresholdsValue)\n",
    "\n",
    "#----------------------------------------------------\n",
    "#Calculating ROC AUC Score:  \n",
    "#roc_auc_score(y_true, y_score, average=’macro’, sample_weight=None,max_fpr=None)\n",
    "\n",
    "ROCAUCScore = roc_auc_score(y_test,y_pred, average='micro') #it can be : macro,weighted,samples\n",
    "print('ROCAUC Score : ', ROCAUCScore)\n",
    "\n",
    "#----------------------------------------------------\n",
    "#Calculating Zero One Loss:  \n",
    "#zero_one_loss(y_true, y_pred, normalize = True, sample_weight = None)\n",
    "\n",
    "ZeroOneLossValue = zero_one_loss(y_test,y_pred,normalize=False) \n",
    "print('Zero One Loss Value : ', ZeroOneLossValue )"
   ]
  }
 ],
 "metadata": {
  "kernelspec": {
   "display_name": "Python 3",
   "language": "python",
   "name": "python3"
  },
  "language_info": {
   "codemirror_mode": {
    "name": "ipython",
    "version": 3
   },
   "file_extension": ".py",
   "mimetype": "text/x-python",
   "name": "python",
   "nbconvert_exporter": "python",
   "pygments_lexer": "ipython3",
   "version": "3.8.8"
  }
 },
 "nbformat": 4,
 "nbformat_minor": 5
}
